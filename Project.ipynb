{
 "cells": [
  {
   "cell_type": "markdown",
   "metadata": {},
   "source": [
    "# Introduction"
   ]
  },
  {
   "cell_type": "markdown",
   "metadata": {},
   "source": [
    "<img src=\"INSERTLINK\">\n",
    "\n",
    "[Caption](INSERTLINK)"
   ]
  },
  {
   "cell_type": "markdown",
   "metadata": {},
   "source": [
    "## Overarching Question: How much of our school’s energy is used on extra energy consumers(mainly explore air conditioners, heaters, lights)?\n"
   ]
  },
  {
   "cell_type": "markdown",
   "metadata": {},
   "source": [
    "**Why this question?** "
   ]
  },
  {
   "cell_type": "markdown",
   "metadata": {},
   "source": [
    "[EDIT ME]"
   ]
  },
  {
   "cell_type": "markdown",
   "metadata": {},
   "source": [
    "# Data"
   ]
  },
  {
   "cell_type": "code",
   "execution_count": 28,
   "metadata": {},
   "outputs": [],
   "source": [
    "#Include any import statements you will need\n",
    "import pandas as pd\n",
    "import matplotlib.pyplot as plt\n",
    "import numpy as np"
   ]
  },
  {
   "cell_type": "code",
   "execution_count": 2,
   "metadata": {},
   "outputs": [],
   "source": [
    "df1 = pd.read_csv('ISF HVAC Hourly Data.csv')\n",
    "df2 = pd.read_csv('ISF Lighting Hourly Data.csv')\n",
    "df3 = pd.read_csv('table33_1_.csv')"
   ]
  },
  {
   "cell_type": "code",
   "execution_count": 3,
   "metadata": {},
   "outputs": [
    {
     "data": {
      "text/html": [
       "<div>\n",
       "<style scoped>\n",
       "    .dataframe tbody tr th:only-of-type {\n",
       "        vertical-align: middle;\n",
       "    }\n",
       "\n",
       "    .dataframe tbody tr th {\n",
       "        vertical-align: top;\n",
       "    }\n",
       "\n",
       "    .dataframe thead th {\n",
       "        text-align: right;\n",
       "    }\n",
       "</style>\n",
       "<table border=\"1\" class=\"dataframe\">\n",
       "  <thead>\n",
       "    <tr style=\"text-align: right;\">\n",
       "      <th></th>\n",
       "      <th>Building A</th>\n",
       "      <th>Building B</th>\n",
       "      <th>Building C</th>\n",
       "      <th>Building G</th>\n",
       "      <th>Building R</th>\n",
       "      <th>Building YG</th>\n",
       "      <th>Unnamed: 7</th>\n",
       "    </tr>\n",
       "  </thead>\n",
       "  <tbody>\n",
       "    <tr>\n",
       "      <th>count</th>\n",
       "      <td>8391.000000</td>\n",
       "      <td>8760.000000</td>\n",
       "      <td>4492.000000</td>\n",
       "      <td>8760.000000</td>\n",
       "      <td>8760.000000</td>\n",
       "      <td>8760.000000</td>\n",
       "      <td>0.0</td>\n",
       "    </tr>\n",
       "    <tr>\n",
       "      <th>mean</th>\n",
       "      <td>37.542133</td>\n",
       "      <td>43.576555</td>\n",
       "      <td>177.678781</td>\n",
       "      <td>32.276606</td>\n",
       "      <td>54.009812</td>\n",
       "      <td>24.712070</td>\n",
       "      <td>NaN</td>\n",
       "    </tr>\n",
       "    <tr>\n",
       "      <th>std</th>\n",
       "      <td>51.690034</td>\n",
       "      <td>55.740534</td>\n",
       "      <td>121.672001</td>\n",
       "      <td>44.132012</td>\n",
       "      <td>66.341040</td>\n",
       "      <td>41.255699</td>\n",
       "      <td>NaN</td>\n",
       "    </tr>\n",
       "    <tr>\n",
       "      <th>min</th>\n",
       "      <td>0.001102</td>\n",
       "      <td>0.380397</td>\n",
       "      <td>0.066984</td>\n",
       "      <td>0.000958</td>\n",
       "      <td>0.000524</td>\n",
       "      <td>0.000210</td>\n",
       "      <td>NaN</td>\n",
       "    </tr>\n",
       "    <tr>\n",
       "      <th>25%</th>\n",
       "      <td>3.789407</td>\n",
       "      <td>6.798113</td>\n",
       "      <td>93.694837</td>\n",
       "      <td>4.085148</td>\n",
       "      <td>9.583837</td>\n",
       "      <td>0.009987</td>\n",
       "      <td>NaN</td>\n",
       "    </tr>\n",
       "    <tr>\n",
       "      <th>50%</th>\n",
       "      <td>13.288887</td>\n",
       "      <td>26.504971</td>\n",
       "      <td>157.280426</td>\n",
       "      <td>14.078693</td>\n",
       "      <td>32.697494</td>\n",
       "      <td>0.743544</td>\n",
       "      <td>NaN</td>\n",
       "    </tr>\n",
       "    <tr>\n",
       "      <th>75%</th>\n",
       "      <td>48.363575</td>\n",
       "      <td>52.109983</td>\n",
       "      <td>258.599086</td>\n",
       "      <td>40.107854</td>\n",
       "      <td>64.813914</td>\n",
       "      <td>36.006068</td>\n",
       "      <td>NaN</td>\n",
       "    </tr>\n",
       "    <tr>\n",
       "      <th>max</th>\n",
       "      <td>368.809333</td>\n",
       "      <td>417.638908</td>\n",
       "      <td>600.227240</td>\n",
       "      <td>335.129784</td>\n",
       "      <td>517.157798</td>\n",
       "      <td>289.122648</td>\n",
       "      <td>NaN</td>\n",
       "    </tr>\n",
       "  </tbody>\n",
       "</table>\n",
       "</div>"
      ],
      "text/plain": [
       "        Building A   Building B   Building C   Building G   Building R  \\\n",
       "count  8391.000000  8760.000000  4492.000000  8760.000000  8760.000000   \n",
       "mean     37.542133    43.576555   177.678781    32.276606    54.009812   \n",
       "std      51.690034    55.740534   121.672001    44.132012    66.341040   \n",
       "min       0.001102     0.380397     0.066984     0.000958     0.000524   \n",
       "25%       3.789407     6.798113    93.694837     4.085148     9.583837   \n",
       "50%      13.288887    26.504971   157.280426    14.078693    32.697494   \n",
       "75%      48.363575    52.109983   258.599086    40.107854    64.813914   \n",
       "max     368.809333   417.638908   600.227240   335.129784   517.157798   \n",
       "\n",
       "       Building YG  Unnamed: 7  \n",
       "count  8760.000000         0.0  \n",
       "mean     24.712070         NaN  \n",
       "std      41.255699         NaN  \n",
       "min       0.000210         NaN  \n",
       "25%       0.009987         NaN  \n",
       "50%       0.743544         NaN  \n",
       "75%      36.006068         NaN  \n",
       "max     289.122648         NaN  "
      ]
     },
     "execution_count": 3,
     "metadata": {},
     "output_type": "execute_result"
    }
   ],
   "source": [
    "df1.describe()"
   ]
  },
  {
   "cell_type": "code",
   "execution_count": 4,
   "metadata": {},
   "outputs": [
    {
     "data": {
      "text/html": [
       "<div>\n",
       "<style scoped>\n",
       "    .dataframe tbody tr th:only-of-type {\n",
       "        vertical-align: middle;\n",
       "    }\n",
       "\n",
       "    .dataframe tbody tr th {\n",
       "        vertical-align: top;\n",
       "    }\n",
       "\n",
       "    .dataframe thead th {\n",
       "        text-align: right;\n",
       "    }\n",
       "</style>\n",
       "<table border=\"1\" class=\"dataframe\">\n",
       "  <thead>\n",
       "    <tr style=\"text-align: right;\">\n",
       "      <th></th>\n",
       "      <th>Building A</th>\n",
       "      <th>Building B</th>\n",
       "      <th>Building C</th>\n",
       "      <th>Building G</th>\n",
       "      <th>Building YG</th>\n",
       "    </tr>\n",
       "  </thead>\n",
       "  <tbody>\n",
       "    <tr>\n",
       "      <th>count</th>\n",
       "      <td>3584.000000</td>\n",
       "      <td>3584.000000</td>\n",
       "      <td>3584.000000</td>\n",
       "      <td>3584.000000</td>\n",
       "      <td>3584.000000</td>\n",
       "    </tr>\n",
       "    <tr>\n",
       "      <th>mean</th>\n",
       "      <td>5.912801</td>\n",
       "      <td>4.550033</td>\n",
       "      <td>3.093487</td>\n",
       "      <td>4.118974</td>\n",
       "      <td>2.488569</td>\n",
       "    </tr>\n",
       "    <tr>\n",
       "      <th>std</th>\n",
       "      <td>8.016526</td>\n",
       "      <td>7.133071</td>\n",
       "      <td>2.852105</td>\n",
       "      <td>5.780055</td>\n",
       "      <td>2.873001</td>\n",
       "    </tr>\n",
       "    <tr>\n",
       "      <th>min</th>\n",
       "      <td>0.005604</td>\n",
       "      <td>0.021251</td>\n",
       "      <td>0.000000</td>\n",
       "      <td>0.048351</td>\n",
       "      <td>0.003617</td>\n",
       "    </tr>\n",
       "    <tr>\n",
       "      <th>25%</th>\n",
       "      <td>0.044078</td>\n",
       "      <td>0.329762</td>\n",
       "      <td>0.223109</td>\n",
       "      <td>0.283127</td>\n",
       "      <td>0.050048</td>\n",
       "    </tr>\n",
       "    <tr>\n",
       "      <th>50%</th>\n",
       "      <td>0.770129</td>\n",
       "      <td>0.454988</td>\n",
       "      <td>3.461703</td>\n",
       "      <td>0.395770</td>\n",
       "      <td>0.057529</td>\n",
       "    </tr>\n",
       "    <tr>\n",
       "      <th>75%</th>\n",
       "      <td>11.093249</td>\n",
       "      <td>5.524716</td>\n",
       "      <td>4.903416</td>\n",
       "      <td>6.993430</td>\n",
       "      <td>6.312007</td>\n",
       "    </tr>\n",
       "    <tr>\n",
       "      <th>max</th>\n",
       "      <td>27.577577</td>\n",
       "      <td>28.395842</td>\n",
       "      <td>8.465775</td>\n",
       "      <td>23.049657</td>\n",
       "      <td>6.543624</td>\n",
       "    </tr>\n",
       "  </tbody>\n",
       "</table>\n",
       "</div>"
      ],
      "text/plain": [
       "        Building A   Building B   Building C   Building G  Building YG\n",
       "count  3584.000000  3584.000000  3584.000000  3584.000000  3584.000000\n",
       "mean      5.912801     4.550033     3.093487     4.118974     2.488569\n",
       "std       8.016526     7.133071     2.852105     5.780055     2.873001\n",
       "min       0.005604     0.021251     0.000000     0.048351     0.003617\n",
       "25%       0.044078     0.329762     0.223109     0.283127     0.050048\n",
       "50%       0.770129     0.454988     3.461703     0.395770     0.057529\n",
       "75%      11.093249     5.524716     4.903416     6.993430     6.312007\n",
       "max      27.577577    28.395842     8.465775    23.049657     6.543624"
      ]
     },
     "execution_count": 4,
     "metadata": {},
     "output_type": "execute_result"
    }
   ],
   "source": [
    "df2.describe()"
   ]
  },
  {
   "cell_type": "code",
   "execution_count": 5,
   "metadata": {},
   "outputs": [
    {
     "data": {
      "text/html": [
       "<div>\n",
       "<style scoped>\n",
       "    .dataframe tbody tr th:only-of-type {\n",
       "        vertical-align: middle;\n",
       "    }\n",
       "\n",
       "    .dataframe tbody tr th {\n",
       "        vertical-align: top;\n",
       "    }\n",
       "\n",
       "    .dataframe thead th {\n",
       "        text-align: right;\n",
       "    }\n",
       "</style>\n",
       "<table border=\"1\" class=\"dataframe\">\n",
       "  <thead>\n",
       "    <tr style=\"text-align: right;\">\n",
       "      <th></th>\n",
       "      <th>Year</th>\n",
       "      <th>Air Conditioning (Unit : Terajoule)</th>\n",
       "      <th>Lighting</th>\n",
       "    </tr>\n",
       "  </thead>\n",
       "  <tbody>\n",
       "    <tr>\n",
       "      <th>count</th>\n",
       "      <td>6.000000</td>\n",
       "      <td>6.000000</td>\n",
       "      <td>6.000000</td>\n",
       "    </tr>\n",
       "    <tr>\n",
       "      <th>mean</th>\n",
       "      <td>2014.500000</td>\n",
       "      <td>1604.666667</td>\n",
       "      <td>671.333333</td>\n",
       "    </tr>\n",
       "    <tr>\n",
       "      <th>std</th>\n",
       "      <td>1.870829</td>\n",
       "      <td>25.049285</td>\n",
       "      <td>11.075498</td>\n",
       "    </tr>\n",
       "    <tr>\n",
       "      <th>min</th>\n",
       "      <td>2012.000000</td>\n",
       "      <td>1563.000000</td>\n",
       "      <td>661.000000</td>\n",
       "    </tr>\n",
       "    <tr>\n",
       "      <th>25%</th>\n",
       "      <td>2013.250000</td>\n",
       "      <td>1602.250000</td>\n",
       "      <td>662.250000</td>\n",
       "    </tr>\n",
       "    <tr>\n",
       "      <th>50%</th>\n",
       "      <td>2014.500000</td>\n",
       "      <td>1604.500000</td>\n",
       "      <td>668.500000</td>\n",
       "    </tr>\n",
       "    <tr>\n",
       "      <th>75%</th>\n",
       "      <td>2015.750000</td>\n",
       "      <td>1611.250000</td>\n",
       "      <td>678.500000</td>\n",
       "    </tr>\n",
       "    <tr>\n",
       "      <th>max</th>\n",
       "      <td>2017.000000</td>\n",
       "      <td>1641.000000</td>\n",
       "      <td>688.000000</td>\n",
       "    </tr>\n",
       "  </tbody>\n",
       "</table>\n",
       "</div>"
      ],
      "text/plain": [
       "              Year  Air Conditioning (Unit : Terajoule)   Lighting \n",
       "count     6.000000                             6.000000    6.000000\n",
       "mean   2014.500000                          1604.666667  671.333333\n",
       "std       1.870829                            25.049285   11.075498\n",
       "min    2012.000000                          1563.000000  661.000000\n",
       "25%    2013.250000                          1602.250000  662.250000\n",
       "50%    2014.500000                          1604.500000  668.500000\n",
       "75%    2015.750000                          1611.250000  678.500000\n",
       "max    2017.000000                          1641.000000  688.000000"
      ]
     },
     "execution_count": 5,
     "metadata": {},
     "output_type": "execute_result"
    }
   ],
   "source": [
    "df3.describe()"
   ]
  },
  {
   "cell_type": "markdown",
   "metadata": {},
   "source": [
    "**What is this data about?**"
   ]
  },
  {
   "cell_type": "markdown",
   "metadata": {},
   "source": [
    "In general, the data that I have chosen mainly explains the amount of energy in kilowatts that are used on multiple systems of both our school and other schools around Hong Kong over different amounts of time. The columns that I would like to work with for the google sheets data set would be the rows that included all of the buildings of the school campus, as some rows of A and C block were not available yet due to the building not being built yet. On the other hand, I would like to monitor the HVAC and lighting systems through the GHUB website, as I believe that this will help me answer my overarching question. Finally, the columns that I would like to use from the government data set would be the HVAC and lighting statistics for the schools around Hong Kong."
   ]
  },
  {
   "cell_type": "markdown",
   "metadata": {},
   "source": [
    "**Where is this data from?**"
   ]
  },
  {
   "cell_type": "markdown",
   "metadata": {},
   "source": [
    "The ISF Environment Data Set was created by our school’s Shuyuan Sustainability Team, being collected through sensors that are placed all around our school to track the amount of energy that is used in heaters, air conditioners and lights in each of the buildings in our school, the data was then programmed to run through some code that would place the data that was collected into a google sheets document, having data being collected from August 1st 2018 till July 31st 2019. There is also a website called GHUB that allows our teachers to monitor the amount of kilowatts that are used in the HVAC and lighting systems of our school, being able to be accessed at any time any where(as long as the user has an internet connection). Finally, I will also be using a dataset that was made by the government that educates viewers about the amount of energy that is used on the energy systems across Hong Kong schools, giving me a good comparison."
   ]
  },
  {
   "cell_type": "markdown",
   "metadata": {},
   "source": [
    "# Subquestions"
   ]
  },
  {
   "cell_type": "markdown",
   "metadata": {},
   "source": [
    "**What quantitative subquestions will you investigate?** "
   ]
  },
  {
   "cell_type": "markdown",
   "metadata": {},
   "source": [
    "1. Which block(A Block, B Block, C Block, etc.) in our school uses the most energy on extra energy consumers?\n",
    "\n",
    "2. What are the most common solutions that are used by our school to decrease the use of energy?\n",
    "\n",
    "3. Which extra energy consumer( air conditioners, heaters, lights) uses the most energy in our school?\n",
    "\n",
    "4. What are the differences in energy use in primary(G, YG) and secondary blocks(A, B) from extra energy consumers?"
   ]
  },
  {
   "cell_type": "markdown",
   "metadata": {},
   "source": [
    "# Methods and Results"
   ]
  },
  {
   "cell_type": "code",
   "execution_count": 6,
   "metadata": {},
   "outputs": [],
   "source": [
    "#Import any helper files you need here"
   ]
  },
  {
   "cell_type": "markdown",
   "metadata": {},
   "source": [
    "## Which block(A Block, B Block, C Block, etc.) in our school uses the most energy on extra energy consumers?"
   ]
  },
  {
   "cell_type": "markdown",
   "metadata": {},
   "source": [
    "### Methods"
   ]
  },
  {
   "cell_type": "markdown",
   "metadata": {},
   "source": [
    "**How will you approach this question? What data science tools/functions will you use, and why?**\n",
    "\n",
    "I will approach this question by comparing the five buildings/blocks with the amount of energy that is used for each one on their extra energy consumers. Code used in past classes will be used ot find the average amount of energy used in each block, which will then be displayed in a bar graph by using code that had been written by us in the past."
   ]
  },
  {
   "cell_type": "markdown",
   "metadata": {},
   "source": [
    "**Which data will you use, and how will you reorganize / store this data?**\n",
    "\n",
    "I will be using the ISF environment data sets as it shows the amount of energy that are used on lighting and HVAC across all five of the buildings(Blocks from both the Primary and also Secondary sections of our school). I will then take the processed data(using \"Average Amount\" code) that I have found from the dataset and express it through a bar graph, different labels will be used to show the differences between each building."
   ]
  },
  {
   "cell_type": "markdown",
   "metadata": {},
   "source": [
    "### Results "
   ]
  },
  {
   "cell_type": "code",
   "execution_count": 7,
   "metadata": {},
   "outputs": [],
   "source": [
    "##Display of the mean of the ISF HVAC systems."
   ]
  },
  {
   "cell_type": "code",
   "execution_count": 8,
   "metadata": {},
   "outputs": [],
   "source": [
    "df1dataframe = df1.describe()\n",
    "HVAC_Building_A = df1dataframe.loc[\"mean\"]['Building A']\n",
    "HVAC_Building_B = df1dataframe.loc[\"mean\"]['Building B']\n",
    "HVAC_Building_C = df1dataframe.loc[\"mean\"]['Building C']\n",
    "HVAC_Building_G = df1dataframe.loc[\"mean\"]['Building G']\n",
    "HVAC_Building_R = df1dataframe.loc[\"mean\"]['Building R']\n",
    "HVAC_Building_YG = df1dataframe.loc[\"mean\"]['Building YG']"
   ]
  },
  {
   "cell_type": "code",
   "execution_count": 9,
   "metadata": {},
   "outputs": [],
   "source": [
    "##Display of the mean of the ISF lighting systems."
   ]
  },
  {
   "cell_type": "code",
   "execution_count": 10,
   "metadata": {},
   "outputs": [],
   "source": [
    "df2dataframe = df2.describe()\n",
    "L_Building_A = df2dataframe.loc[\"mean\"]['Building A']\n",
    "L_Building_B = df2dataframe.loc[\"mean\"]['Building B']\n",
    "L_Building_C = df2dataframe.loc[\"mean\"]['Building C']\n",
    "L_Building_G = df2dataframe.loc[\"mean\"]['Building G']\n",
    "L_Building_YG = df2dataframe.loc[\"mean\"]['Building YG']"
   ]
  },
  {
   "cell_type": "code",
   "execution_count": 11,
   "metadata": {},
   "outputs": [],
   "source": [
    "##Average energy use in HVAC and lighting systems in Building A."
   ]
  },
  {
   "cell_type": "code",
   "execution_count": 12,
   "metadata": {},
   "outputs": [],
   "source": [
    "Four_One_A = (HVAC_Building_A+L_Building_A)/2"
   ]
  },
  {
   "cell_type": "code",
   "execution_count": 13,
   "metadata": {},
   "outputs": [
    {
     "data": {
      "text/plain": [
       "21.727467205260375"
      ]
     },
     "execution_count": 13,
     "metadata": {},
     "output_type": "execute_result"
    }
   ],
   "source": [
    "Four_One_A"
   ]
  },
  {
   "cell_type": "code",
   "execution_count": 14,
   "metadata": {},
   "outputs": [],
   "source": [
    "##Average energy use in HVAC and lighting systems in Building B."
   ]
  },
  {
   "cell_type": "code",
   "execution_count": 15,
   "metadata": {},
   "outputs": [],
   "source": [
    "Four_One_B = (HVAC_Building_B+L_Building_B)/2"
   ]
  },
  {
   "cell_type": "code",
   "execution_count": 16,
   "metadata": {},
   "outputs": [
    {
     "data": {
      "text/plain": [
       "24.06329410727267"
      ]
     },
     "execution_count": 16,
     "metadata": {},
     "output_type": "execute_result"
    }
   ],
   "source": [
    "Four_One_B"
   ]
  },
  {
   "cell_type": "code",
   "execution_count": 17,
   "metadata": {},
   "outputs": [],
   "source": [
    "##Average energy use in HVAC and lighting systems in Building C."
   ]
  },
  {
   "cell_type": "code",
   "execution_count": 18,
   "metadata": {},
   "outputs": [],
   "source": [
    "Four_One_C = (HVAC_Building_C+L_Building_C)/2"
   ]
  },
  {
   "cell_type": "code",
   "execution_count": 19,
   "metadata": {},
   "outputs": [
    {
     "data": {
      "text/plain": [
       "90.38613384935334"
      ]
     },
     "execution_count": 19,
     "metadata": {},
     "output_type": "execute_result"
    }
   ],
   "source": [
    "Four_One_C"
   ]
  },
  {
   "cell_type": "code",
   "execution_count": 20,
   "metadata": {},
   "outputs": [],
   "source": [
    "##Average energy use in HVAC and lighting systems in Building G."
   ]
  },
  {
   "cell_type": "code",
   "execution_count": 21,
   "metadata": {},
   "outputs": [],
   "source": [
    "Four_One_G = (HVAC_Building_G+L_Building_G)/2"
   ]
  },
  {
   "cell_type": "code",
   "execution_count": 22,
   "metadata": {},
   "outputs": [
    {
     "data": {
      "text/plain": [
       "18.197790310373144"
      ]
     },
     "execution_count": 22,
     "metadata": {},
     "output_type": "execute_result"
    }
   ],
   "source": [
    "Four_One_G"
   ]
  },
  {
   "cell_type": "code",
   "execution_count": 23,
   "metadata": {},
   "outputs": [],
   "source": [
    "##Average energy use in HVAC and lighting systems in Building YG."
   ]
  },
  {
   "cell_type": "code",
   "execution_count": 24,
   "metadata": {},
   "outputs": [],
   "source": [
    "Four_One_YG = (HVAC_Building_YG+L_Building_YG)/2 "
   ]
  },
  {
   "cell_type": "code",
   "execution_count": 25,
   "metadata": {},
   "outputs": [
    {
     "data": {
      "text/plain": [
       "13.60031932032561"
      ]
     },
     "execution_count": 25,
     "metadata": {},
     "output_type": "execute_result"
    }
   ],
   "source": [
    "Four_One_YG"
   ]
  },
  {
   "cell_type": "code",
   "execution_count": 26,
   "metadata": {},
   "outputs": [],
   "source": [
    "##Code for the bar graph."
   ]
  },
  {
   "cell_type": "code",
   "execution_count": 29,
   "metadata": {},
   "outputs": [
    {
     "data": {
      "image/png": "[encoded data removed]",
      "text/plain": [
       "<Figure size 432x288 with 1 Axes>"
      ]
     },
     "metadata": {
      "needs_background": "light"
     },
     "output_type": "display_data"
    }
   ],
   "source": [
    "objects = (\"Block A\", 'Block B', 'Block C', 'Block G', 'Block YG')\n",
    "y_pos = np.arange(len(objects))\n",
    "performance = [Four_One_A, Four_One_B, Four_One_C, Four_One_G, Four_One_YG]\n",
    "\n",
    "plt.bar(y_pos, performance, align='center', alpha=0.5)\n",
    "plt.xticks(y_pos, objects)\n",
    "plt.ylabel('Energy Produced(Kilowatts per hour)')\n",
    "plt.title('Which Block in Our School Uses the Most Energy on Extra Energy Consumers?')\n",
    "\n",
    "plt.show()"
   ]
  },
  {
   "cell_type": "markdown",
   "metadata": {},
   "source": [
    "## Which extra energy consumer( air conditioners, heaters, lights) uses the most energy in our school?"
   ]
  },
  {
   "cell_type": "markdown",
   "metadata": {},
   "source": [
    "### Methods"
   ]
  },
  {
   "cell_type": "markdown",
   "metadata": {},
   "source": [
    "**How will you approach this question? What data science tools/functions will you use, and why?**\n",
    "\n",
    "I will approach this question by comparing the total amount of energy used on the lighting of our school compared to the HVAC(Heaters and air conditioners). The \"Average Amount\" code that was written in past classes will be used to figure out the average use of energy for each system, the data will then be shown as it is through using the code above, it will also be labeled to show differences."
   ]
  },
  {
   "cell_type": "markdown",
   "metadata": {},
   "source": [
    "**Which data will you use, and how will you reorganize / store this data?**\n",
    "\n",
    "I will be using ISF enviroment datasets as I will be able to find the amount of energy that are used un the lighting and the HVAC systems all across the school. I will then use the average code to display everything(note that everything will be labeled, as I believe that by doing this it will allow the people who will be looking at my results to understand what I am trying to communicate."
   ]
  },
  {
   "cell_type": "markdown",
   "metadata": {},
   "source": [
    "### Results "
   ]
  },
  {
   "cell_type": "code",
   "execution_count": 30,
   "metadata": {},
   "outputs": [],
   "source": [
    "##Code for the mean of the HVAC systems of our school."
   ]
  },
  {
   "cell_type": "code",
   "execution_count": 31,
   "metadata": {},
   "outputs": [
    {
     "data": {
      "text/plain": [
       "63.15722913047703"
      ]
     },
     "execution_count": 31,
     "metadata": {},
     "output_type": "execute_result"
    }
   ],
   "source": [
    "df1dataframe = df1.describe()\n",
    "HVAC_Building_A = df1dataframe.loc[\"mean\"]['Building A']\n",
    "HVAC_Building_B = df1dataframe.loc[\"mean\"]['Building B']\n",
    "HVAC_Building_C = df1dataframe.loc[\"mean\"]['Building C']\n",
    "HVAC_Building_G = df1dataframe.loc[\"mean\"]['Building G']\n",
    "HVAC_Building_R = df1dataframe.loc[\"mean\"]['Building R']\n",
    "HVAC_Building_YG = df1dataframe.loc[\"mean\"]['Building YG']\n",
    "(HVAC_Building_A+HVAC_Building_B+HVAC_Building_C+HVAC_Building_G+HVAC_Building_YG)/5"
   ]
  },
  {
   "cell_type": "code",
   "execution_count": 32,
   "metadata": {},
   "outputs": [],
   "source": [
    "##Code for the mean of the lightings systems of our school."
   ]
  },
  {
   "cell_type": "code",
   "execution_count": 33,
   "metadata": {},
   "outputs": [
    {
     "data": {
      "text/plain": [
       "4.032772786557031"
      ]
     },
     "execution_count": 33,
     "metadata": {},
     "output_type": "execute_result"
    }
   ],
   "source": [
    "df2dataframe = df2.describe()\n",
    "L_Building_A = df2dataframe.loc[\"mean\"]['Building A']\n",
    "L_Building_B = df2dataframe.loc[\"mean\"]['Building B']\n",
    "L_Building_C = df2dataframe.loc[\"mean\"]['Building C']\n",
    "L_Building_G = df2dataframe.loc[\"mean\"]['Building G']\n",
    "L_Building_YG = df2dataframe.loc[\"mean\"]['Building YG']\n",
    "(L_Building_A+L_Building_B+L_Building_C+L_Building_G+L_Building_YG)/5"
   ]
  },
  {
   "cell_type": "markdown",
   "metadata": {},
   "source": [
    "## What are the differences between schools energy use on extra energy consumers when compared to the government statistics on Hong Kong’s educational systems?\n"
   ]
  },
  {
   "cell_type": "markdown",
   "metadata": {},
   "source": [
    "### Methods"
   ]
  },
  {
   "cell_type": "markdown",
   "metadata": {},
   "source": [
    "**How will you approach this question? What data science tools/functions will you use, and why?**\n",
    "\n",
    "I will approach this question by comparing the amount of energy that is used on our school when compared to the data that is given to us by the government on how much energy Hong Kong's educational system uses on average. The \"Average Amount\" code that was written in past classes will be used to figure out the average use of energy for each system, the data will then be shown as it is through using the code above, it will also be labeled to show differences."
   ]
  },
  {
   "cell_type": "markdown",
   "metadata": {},
   "source": [
    "**Which data will you use, and how will you reorganize / store this data?**\n",
    "\n",
    "I will be using ISF enviroment datasets and the government statistics dataset, as I will be able to use the data from both datasets to look at the amount of energy on lighting and HVAC across our school and also Hong Kong educational systems.. I will then use the average amount code to process all of the data which will then be labeled to show the differences, as I believe that by doing this it will allow the people who will be looking at my results to understand what I am trying to tell them."
   ]
  },
  {
   "cell_type": "markdown",
   "metadata": {},
   "source": [
    "### Results "
   ]
  },
  {
   "cell_type": "code",
   "execution_count": 34,
   "metadata": {},
   "outputs": [
    {
     "data": {
      "text/html": [
       "<div>\n",
       "<style scoped>\n",
       "    .dataframe tbody tr th:only-of-type {\n",
       "        vertical-align: middle;\n",
       "    }\n",
       "\n",
       "    .dataframe tbody tr th {\n",
       "        vertical-align: top;\n",
       "    }\n",
       "\n",
       "    .dataframe thead th {\n",
       "        text-align: right;\n",
       "    }\n",
       "</style>\n",
       "<table border=\"1\" class=\"dataframe\">\n",
       "  <thead>\n",
       "    <tr style=\"text-align: right;\">\n",
       "      <th></th>\n",
       "      <th>Year</th>\n",
       "      <th>Air Conditioning (Unit : Terajoule)</th>\n",
       "      <th>Lighting</th>\n",
       "    </tr>\n",
       "  </thead>\n",
       "  <tbody>\n",
       "    <tr>\n",
       "      <th>0</th>\n",
       "      <td>2012</td>\n",
       "      <td>1602</td>\n",
       "      <td>671</td>\n",
       "    </tr>\n",
       "    <tr>\n",
       "      <th>1</th>\n",
       "      <td>2013</td>\n",
       "      <td>1563</td>\n",
       "      <td>661</td>\n",
       "    </tr>\n",
       "    <tr>\n",
       "      <th>2</th>\n",
       "      <td>2014</td>\n",
       "      <td>1603</td>\n",
       "      <td>661</td>\n",
       "    </tr>\n",
       "    <tr>\n",
       "      <th>3</th>\n",
       "      <td>2015</td>\n",
       "      <td>1606</td>\n",
       "      <td>666</td>\n",
       "    </tr>\n",
       "    <tr>\n",
       "      <th>4</th>\n",
       "      <td>2016</td>\n",
       "      <td>1613</td>\n",
       "      <td>681</td>\n",
       "    </tr>\n",
       "    <tr>\n",
       "      <th>5</th>\n",
       "      <td>2017</td>\n",
       "      <td>1641</td>\n",
       "      <td>688</td>\n",
       "    </tr>\n",
       "  </tbody>\n",
       "</table>\n",
       "</div>"
      ],
      "text/plain": [
       "   Year  Air Conditioning (Unit : Terajoule)  Lighting \n",
       "0  2012                                 1602        671\n",
       "1  2013                                 1563        661\n",
       "2  2014                                 1603        661\n",
       "3  2015                                 1606        666\n",
       "4  2016                                 1613        681\n",
       "5  2017                                 1641        688"
      ]
     },
     "execution_count": 34,
     "metadata": {},
     "output_type": "execute_result"
    }
   ],
   "source": [
    "df3"
   ]
  },
  {
   "cell_type": "code",
   "execution_count": 35,
   "metadata": {},
   "outputs": [],
   "source": [
    "##Code for calculating the average amount of energy used in government statistics."
   ]
  },
  {
   "cell_type": "code",
   "execution_count": 36,
   "metadata": {},
   "outputs": [],
   "source": [
    "df3dataframe = df3.describe()\n",
    "HVAC_Gov = df3dataframe.loc[\"mean\"]['Air Conditioning (Unit : Terajoule)']\n",
    "L_Gov = df3dataframe.loc[\"mean\"]['Lighting ']"
   ]
  },
  {
   "cell_type": "code",
   "execution_count": 37,
   "metadata": {},
   "outputs": [],
   "source": [
    "Average_Gov = (((HVAC_Gov+L_Gov/2)/365)/24)/1107"
   ]
  },
  {
   "cell_type": "code",
   "execution_count": 38,
   "metadata": {},
   "outputs": [],
   "source": [
    "##Code for converting terajoules to kilowatts per hour."
   ]
  },
  {
   "cell_type": "code",
   "execution_count": 39,
   "metadata": {},
   "outputs": [
    {
     "data": {
      "text/plain": [
       "55.58424137352727"
      ]
     },
     "execution_count": 39,
     "metadata": {},
     "output_type": "execute_result"
    }
   ],
   "source": [
    "Average_Gov*277796.689"
   ]
  },
  {
   "cell_type": "code",
   "execution_count": 40,
   "metadata": {},
   "outputs": [],
   "source": [
    "##Code for the mean of the HVAC systems of our school."
   ]
  },
  {
   "cell_type": "code",
   "execution_count": 41,
   "metadata": {},
   "outputs": [],
   "source": [
    "df1dataframe = df1.describe()\n",
    "HVAC_Building_A = df1dataframe.loc[\"mean\"]['Building A']\n",
    "HVAC_Building_B = df1dataframe.loc[\"mean\"]['Building B']\n",
    "HVAC_Building_C = df1dataframe.loc[\"mean\"]['Building C']\n",
    "HVAC_Building_G = df1dataframe.loc[\"mean\"]['Building G']\n",
    "HVAC_Building_R = df1dataframe.loc[\"mean\"]['Building R']\n",
    "HVAC_Building_YG = df1dataframe.loc[\"mean\"]['Building YG']\n",
    "Average_HVAC = (HVAC_Building_A+HVAC_Building_C+HVAC_Building_B+HVAC_Building_G+HVAC_Building_YG)/5"
   ]
  },
  {
   "cell_type": "code",
   "execution_count": 42,
   "metadata": {},
   "outputs": [],
   "source": [
    "##Code for the mean of the lighting systems of our school."
   ]
  },
  {
   "cell_type": "code",
   "execution_count": 43,
   "metadata": {},
   "outputs": [],
   "source": [
    "df2dataframe = df2.describe()\n",
    "L_Building_A = df2dataframe.loc[\"mean\"]['Building A']\n",
    "L_Building_B = df2dataframe.loc[\"mean\"]['Building B']\n",
    "L_Building_C = df2dataframe.loc[\"mean\"]['Building C']\n",
    "L_Building_G = df2dataframe.loc[\"mean\"]['Building G']\n",
    "L_Building_YG = df2dataframe.loc[\"mean\"]['Building YG']\n",
    "Average_L = (L_Building_A+L_Building_B+L_Building_C+L_Building_G+L_Building_YG)/5"
   ]
  },
  {
   "cell_type": "code",
   "execution_count": 44,
   "metadata": {},
   "outputs": [],
   "source": [
    "##Code for the mean of both the HVAC and lighting systems of our school."
   ]
  },
  {
   "cell_type": "code",
   "execution_count": 45,
   "metadata": {},
   "outputs": [
    {
     "data": {
      "text/plain": [
       "33.595000958517026"
      ]
     },
     "execution_count": 45,
     "metadata": {},
     "output_type": "execute_result"
    }
   ],
   "source": [
    "(Average_L+Average_HVAC)/2"
   ]
  },
  {
   "cell_type": "markdown",
   "metadata": {},
   "source": [
    "## What are the differences in energy use in primary(G, YG) and secondary blocks(A, B) from extra energy consumers?"
   ]
  },
  {
   "cell_type": "markdown",
   "metadata": {},
   "source": [
    "### Methods"
   ]
  },
  {
   "cell_type": "markdown",
   "metadata": {},
   "source": [
    "**How will you approach this question? What data science tools/functions will you use, and why?**\n",
    "\n",
    "I will approach this question by comparing the amount of energy that is used on in the primary blocks of G and YG with the energy use in the secondary block of A and B. Code used in past classes will be used ot find the average amount of energy used in each block, which will then be displayed in a bar graph by using code that had been written by us in the past."
   ]
  },
  {
   "cell_type": "markdown",
   "metadata": {},
   "source": [
    "**Which data will you use, and how will you reorganize / store this data?**\n",
    "\n",
    "I will be using the ISF environment data sets as it shows the amount of energy that are used on lighting and HVAC across all of the primary and secondary buildings(A, B, G, YG). I will then take the data that I have found from the datasets and express it through finding average code between all of the data. Afterwards, I will take the values and finally place it into a bar graph, so that my audience can understand what I am trying to communicate."
   ]
  },
  {
   "cell_type": "markdown",
   "metadata": {},
   "source": [
    "### Results \n",
    "\n",
    "\n"
   ]
  },
  {
   "cell_type": "code",
   "execution_count": 46,
   "metadata": {},
   "outputs": [],
   "source": [
    "##Code for the mean of the HVAC systems of our school."
   ]
  },
  {
   "cell_type": "code",
   "execution_count": 47,
   "metadata": {},
   "outputs": [
    {
     "data": {
      "text/plain": [
       "Building A      37.542133\n",
       "Building B      43.576555\n",
       "Building C     177.678781\n",
       "Building G      32.276606\n",
       "Building R      54.009812\n",
       "Building YG     24.712070\n",
       "Unnamed: 7            NaN\n",
       "Name: mean, dtype: float64"
      ]
     },
     "execution_count": 47,
     "metadata": {},
     "output_type": "execute_result"
    }
   ],
   "source": [
    "df1dataframe = df1.describe()\n",
    "df1dataframe.loc[\"mean\"]"
   ]
  },
  {
   "cell_type": "code",
   "execution_count": 48,
   "metadata": {},
   "outputs": [],
   "source": [
    "df1dataframe = df1.describe()\n",
    "HVAC_Building_A = df1dataframe.loc[\"mean\"]['Building A']\n",
    "HVAC_Building_B = df1dataframe.loc[\"mean\"]['Building B']\n",
    "HVAC_Building_C = df1dataframe.loc[\"mean\"]['Building C']\n",
    "HVAC_Building_G = df1dataframe.loc[\"mean\"]['Building G']\n",
    "HVAC_Building_R = df1dataframe.loc[\"mean\"]['Building R']\n",
    "HVAC_Building_YG = df1dataframe.loc[\"mean\"]['Building YG']"
   ]
  },
  {
   "cell_type": "code",
   "execution_count": 49,
   "metadata": {},
   "outputs": [],
   "source": [
    "##Code for the mean of the lighting systems of our school."
   ]
  },
  {
   "cell_type": "code",
   "execution_count": 50,
   "metadata": {},
   "outputs": [
    {
     "data": {
      "text/plain": [
       "Building A     5.912801\n",
       "Building B     4.550033\n",
       "Building C     3.093487\n",
       "Building G     4.118974\n",
       "Building YG    2.488569\n",
       "Name: mean, dtype: float64"
      ]
     },
     "execution_count": 50,
     "metadata": {},
     "output_type": "execute_result"
    }
   ],
   "source": [
    "df2dataframe = df2.describe()\n",
    "df2dataframe.loc[\"mean\"]"
   ]
  },
  {
   "cell_type": "code",
   "execution_count": 51,
   "metadata": {},
   "outputs": [],
   "source": [
    "df2dataframe = df2.describe()\n",
    "L_Building_A = df2dataframe.loc[\"mean\"]['Building A']\n",
    "L_Building_B = df2dataframe.loc[\"mean\"]['Building B']\n",
    "L_Building_C = df2dataframe.loc[\"mean\"]['Building C']\n",
    "L_Building_G = df2dataframe.loc[\"mean\"]['Building G']\n",
    "L_Building_YG = df2dataframe.loc[\"mean\"]['Building YG']"
   ]
  },
  {
   "cell_type": "code",
   "execution_count": 52,
   "metadata": {},
   "outputs": [],
   "source": [
    "##Code for average energy use of Primary Blocks."
   ]
  },
  {
   "cell_type": "code",
   "execution_count": 53,
   "metadata": {},
   "outputs": [],
   "source": [
    "Average_Primary = (HVAC_Building_G+HVAC_Building_YG+L_Building_G+L_Building_YG)/4"
   ]
  },
  {
   "cell_type": "code",
   "execution_count": 54,
   "metadata": {},
   "outputs": [
    {
     "data": {
      "text/plain": [
       "15.899054815349379"
      ]
     },
     "execution_count": 54,
     "metadata": {},
     "output_type": "execute_result"
    }
   ],
   "source": [
    "Average_Primary"
   ]
  },
  {
   "cell_type": "code",
   "execution_count": 55,
   "metadata": {},
   "outputs": [],
   "source": [
    "##Code for average energy use of Secondary Blocks."
   ]
  },
  {
   "cell_type": "code",
   "execution_count": 56,
   "metadata": {},
   "outputs": [],
   "source": [
    "Average_Secondary = (HVAC_Building_A+HVAC_Building_B+L_Building_A+L_Building_B)/4"
   ]
  },
  {
   "cell_type": "code",
   "execution_count": 57,
   "metadata": {},
   "outputs": [
    {
     "data": {
      "text/plain": [
       "22.895380656266525"
      ]
     },
     "execution_count": 57,
     "metadata": {},
     "output_type": "execute_result"
    }
   ],
   "source": [
    "Average_Secondary"
   ]
  },
  {
   "cell_type": "code",
   "execution_count": 58,
   "metadata": {},
   "outputs": [],
   "source": [
    "##Code for the bar graph."
   ]
  },
  {
   "cell_type": "code",
   "execution_count": 59,
   "metadata": {},
   "outputs": [
    {
     "data": {
      "image/png": "[encoded data removed]",
      "text/plain": [
       "<Figure size 432x288 with 1 Axes>"
      ]
     },
     "metadata": {
      "needs_background": "light"
     },
     "output_type": "display_data"
    }
   ],
   "source": [
    "objects = (\"Primary Blocks(Y, YG)\", 'Secondary Blocks(A, B)')\n",
    "y_pos = np.arange(len(objects))\n",
    "performance = [Average_Primary, Average_Secondary]\n",
    "\n",
    "plt.bar(y_pos, performance, align='center', alpha=0.5)\n",
    "plt.xticks(y_pos, objects)\n",
    "plt.ylabel('Energy Produced(Kilowatts per hour)')\n",
    "plt.title('What are the differences in energy use in primary(G, YG) and secondary blocks(A, B) from extra energy consumers?')\n",
    "\n",
    "plt.show()"
   ]
  },
  {
   "cell_type": "markdown",
   "metadata": {},
   "source": [
    "# Discussion"
   ]
  },
  {
   "cell_type": "markdown",
   "metadata": {},
   "source": [
    "## Summary"
   ]
  },
  {
   "cell_type": "markdown",
   "metadata": {},
   "source": [
    "**In summary, what did you discover?**"
   ]
  },
  {
   "cell_type": "markdown",
   "metadata": {},
   "source": [
    "Sub-question 1:\n",
    "In subquestion one I discovered that A, B, YG and G block were much smaller when compared to the amount of energy used in C block. As A Block had 21.7(1DP), B Block had 24.1(1DP), YG Block had 13.6(1DP) and G Block had 18.2(1DP) kilowatts per hour, while C block had 90.4(1DP) kilowatts per hour, having an average difference of 71 kilowatts per hour(after adding all the values of the other blocks and looking at the difference.\n",
    "\n",
    "Sub-question 2:\n",
    "In subquestion two I discovered that the HVAC systems of our school actually uses more energy than our lighting systems. As the HVAC systems used 63.2(1DP) kilowatts per hour, while the lighting systems used 4.0(1DP) kilowatts per hour, having a big 59.1(1DP) difference of kilowatts.\n",
    "\n",
    "Sub-question 3:\n",
    "In subquestion three I discovered that the statistics that I found on the internet about the government's view shows that the average school in Hong Kong actually uses much more energy when compared to our school. As the \"average school\" uses 55.6(1DP) kilowatts per hour, while our school uses 33.6(1DP), having a difference of 22.0(1DP).\n",
    "\n",
    "Sub-question 4:\n",
    "In subquestion four I discovered that the secondary blocks of our school uses more energy when compared to the primary blocks. As the secondary buildings seems to use an average of 22.9(1DP) kilowatts per hour, while the primary blocks use an average of 15.9(1DP), having a small difference of 7.0(1DP)."
   ]
  },
  {
   "cell_type": "markdown",
   "metadata": {},
   "source": [
    "**What was most surprising? What made sense? How does this confirm or disprove other sources?**"
   ]
  },
  {
   "cell_type": "markdown",
   "metadata": {},
   "source": [
    "Sub-question 1:\n",
    "What suprised me the most was that YG block seemed to have a pretty significant difference when compared to the other blocks, as the primary students still seem to use the classrooms and facilities on a daily basis. Furthermore, the classrooms used in YG and G block are pretty simmilar when it comes to energy use and also quantity. However, the fact that C block used around 90 kilowatts of energy per hour does make sense, as most of the facilities in the building seem to use more energy, as the facilities would include the heating of the swimming pools, the bright lights in both the auditorium, gym area, squash courts etc.. By looking at the results, I can see that our school does seem to be a pretty \"green school\" as an article written by Marianne Bray from SCMP has said, having low stats such as the average of around 19.4 kilowatts used per hour. Even though C Block does use a high amount, the school has no control over this as some of the things inside the building can't be changed.\n",
    "\n",
    "Sub-question 2:\n",
    "What suprised me a lot was that the difference of energy used in the HVAC and lighting systems were so different, as I would think that the months where the temperatures might start to cool down, might of had been a phase where students and teachers would not need a heater or the air conditioning. However the lighting systems having such a low value made sense, as lights don't really need that much power to operate in the first place. By looking at the results we can tell that our school is pretty eco friendly, as an article written by Marianne Bray from SCMP seems to agree with us, I believe that the reason why it might be like this is due to knowing that our school does use solar energy, which might make a difference.\n",
    "\n",
    "Sub-question 3:\n",
    "What suprised me a lot was that the difference of kilowatts per hour were so big when compared between the average school in Hong Kong and our school, even though our school does promote saving energy when on campus, I didn't think that it would have such a big impact to lower its rates by that much when compared to other schools around Hong Kong. By looking at the results we can tell that our school is more eco friendly when compared to other schools, as there seems to be a 22 kilowatt per hour gap inbetween the two averages, this might be like this as our school uses solar energy and also encourages students and teachers to due specific things to be more \"green\".\n",
    "\n",
    "Sub-question 4:\n",
    "What suprised me a lot was that the primary blocks seemed to use less energy than the secondary blocks, as the students in secondary are always encouraged to save energy, by being given lecture to, enrolled in energy saving competitions etc.. However the facilities that the primary blocks have are smaller in size when compared to the secondary blocks, due to this happening it makes sense that they use less energy. Furthermore, primary students due tend to use some parts of the secondary block, which means that they play a role in using the energy in our buildings. By looking at the results we can tell that our school might not be that eco friendly in the secondary blocks, as there seems to be a slight gap between the two averages. I think that this might be because of how our primary blocks use solar energy. Furthermore, the facilities used in our secondary blocks might use more energy when compared to the primary blocks."
   ]
  },
  {
   "cell_type": "markdown",
   "metadata": {
    "code_folding": []
   },
   "source": [
    "## Considerations"
   ]
  },
  {
   "cell_type": "markdown",
   "metadata": {},
   "source": [
    "**It's important to recognize the limitations of our research as well. Describe a limitation of your dataset. Are there any known biases in the data?**"
   ]
  },
  {
   "cell_type": "markdown",
   "metadata": {},
   "source": [
    "The limitations of both data set 1 and 2 were that some buildings were not around when others started to collect data, as between the time period in which the older buildings were around to when the new buildings were built could create a huge difference in data collection, as there could be events which forced our school campus to use more energy within that time period. Another limitation would be data set 3, as we are not sure which school they chose to collect data from, as some schools might not be a normal primary/secondary school like ours, they could possiblt specialize in teaching something that uses a lot of energy throughout the entire year."
   ]
  },
  {
   "cell_type": "markdown",
   "metadata": {},
   "source": [
    "**Describe an algorithmic choice that you made and how your results could have changed if you made that choice differently.**"
   ]
  },
  {
   "cell_type": "markdown",
   "metadata": {},
   "source": [
    "If I were to not divide the amount of years that the data was collected by the amount of energy used correctly(taking away the years if the energy for each extra energy consumer system was not used in that specific year) in data set 3, it would make my graphs and data extremly unreliable, which means that my data would not be able to support the points that I am trying to make throughout the entire project."
   ]
  },
  {
   "cell_type": "markdown",
   "metadata": {},
   "source": [
    "## Next Steps"
   ]
  },
  {
   "cell_type": "markdown",
   "metadata": {},
   "source": [
    "**Imagine you have time and access to research participants who are willing to talk to you or have you observe them. What qualitative questions would you ask them that cannot be answered with quantitative analysis?**"
   ]
  },
  {
   "cell_type": "markdown",
   "metadata": {},
   "source": [
    "1. What methods do you the school are already using that is effective in reducing energy use in extra energy consumer?\n",
    "2. What methods do you think the school could use to reduce energy use in extra energy consumers?\n",
    "3. What can be used to replace the job of the extra energy consumers and also reduct the amount of energy used?\n",
    "4. At which time of the year do you think HVAC system related energy consumers are not needed?\n",
    "5. At which time of the day do you think that lighting systems are not really needed?\n",
    "\n",
    "I would mainly choose questions that are based on personal opinions towards certain things of our school environment and to make it a fair questionnaire I will try to ask students or faculty from each grade level, so that I can get a basic understanding of what the majority of the school wants."
   ]
  },
  {
   "cell_type": "markdown",
   "metadata": {},
   "source": [
    "**Who would you like to share these findings with, and why?**"
   ]
  },
  {
   "cell_type": "markdown",
   "metadata": {},
   "source": [
    "I would like to share these findings with the Shuyuan Sustainability Team, as I believe that the data will help them with understanding what they should try to improve on in the environmental aspect of our school and possibly also being able to use this data as evidence that would possibly help them in convining higher ranked people in our school's system to fund them or support them in their cause of making a change."
   ]
  },
  {
   "cell_type": "markdown",
   "metadata": {},
   "source": [
    "**Why does it matter?**"
   ]
  },
  {
   "cell_type": "markdown",
   "metadata": {},
   "source": [
    "The reason why this matters is because of how small steps like these can possibly create a bigger and more effective change in the overall environment of Hong Kong or possibly the world as this cause starts to spread across the world. If schools around Hong Kong could put the effort into helping create a more healthy environment, it would not only create a better space for them to live in, but also for the people who are living in this country."
   ]
  },
  {
   "cell_type": "code",
   "execution_count": null,
   "metadata": {},
   "outputs": [],
   "source": []
  },
  {
   "cell_type": "code",
   "execution_count": null,
   "metadata": {},
   "outputs": [],
   "source": []
  }
 ],
 "metadata": {
  "kernelspec": {
   "display_name": "Python 3",
   "language": "python",
   "name": "python3"
  },
  "language_info": {
   "codemirror_mode": {
    "name": "ipython",
    "version": 3
   },
   "file_extension": ".py",
   "mimetype": "text/x-python",
   "name": "python",
   "nbconvert_exporter": "python",
   "pygments_lexer": "ipython3",
   "version": "3.7.4"
  },
  "toc": {
   "base_numbering": 1,
   "nav_menu": {},
   "number_sections": true,
   "sideBar": true,
   "skip_h1_title": false,
   "title_cell": "Table of Contents",
   "title_sidebar": "Contents",
   "toc_cell": false,
   "toc_position": {},
   "toc_section_display": true,
   "toc_window_display": false
  },
  "varInspector": {
   "cols": {
    "lenName": 16,
    "lenType": 16,
    "lenVar": 40
   },
   "kernels_config": {
    "python": {
     "delete_cmd_postfix": "",
     "delete_cmd_prefix": "del ",
     "library": "var_list.py",
     "varRefreshCmd": "print(var_dic_list())"
    },
    "r": {
     "delete_cmd_postfix": ") ",
     "delete_cmd_prefix": "rm(",
     "library": "var_list.r",
     "varRefreshCmd": "cat(var_dic_list()) "
    }
   },
   "types_to_exclude": [
    "module",
    "function",
    "builtin_function_or_method",
    "instance",
    "_Feature"
   ],
   "window_display": false
  }
 },
 "nbformat": 4,
 "nbformat_minor": 2
}
